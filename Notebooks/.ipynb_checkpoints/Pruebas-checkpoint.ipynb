{
 "cells": [
  {
   "cell_type": "code",
   "execution_count": 11,
   "id": "aa65f5fa-14aa-44f6-9ec9-6fccfa002926",
   "metadata": {},
   "outputs": [
    {
     "data": {
      "text/plain": [
       "id_odsp                                                  UFot0hit/\n",
       "id_event                                                 UFot0hit1\n",
       "sort_order                                                       1\n",
       "time                                                             2\n",
       "text             Attempt missed. Mladen Petric (Hamburg) left f...\n",
       "event_type                                                       1\n",
       "event_type2                                                   12.0\n",
       "side                                                             2\n",
       "event_team                                              Hamburg SV\n",
       "opponent                                         Borussia Dortmund\n",
       "player                                               mladen petric\n",
       "player2                                                gokhan tore\n",
       "player_in                                                      NaN\n",
       "player_out                                                     NaN\n",
       "shot_place                                                     6.0\n",
       "shot_outcome                                                   2.0\n",
       "is_goal                                                          0\n",
       "location                                                       9.0\n",
       "bodypart                                                       2.0\n",
       "assist_method                                                    1\n",
       "situation                                                      1.0\n",
       "fast_break                                                       0\n",
       "Name: 0, dtype: object"
      ]
     },
     "execution_count": 11,
     "metadata": {},
     "output_type": "execute_result"
    }
   ],
   "source": [
    "import pandas as pd\n",
    "\n",
    "ubi = '/home/flopezp/Documentos/GitHub/AI-project-2025-1/data/events.csv'\n",
    "ds = pd.read_csv(ubi)\n",
    "ds.iloc[0]\n"
   ]
  },
  {
   "cell_type": "code",
   "execution_count": null,
   "id": "67cc7e9d-e328-44d7-b188-9dc4bb42e534",
   "metadata": {},
   "outputs": [],
   "source": []
  }
 ],
 "metadata": {
  "kernelspec": {
   "display_name": "Python 3 (ipykernel)",
   "language": "python",
   "name": "python3"
  },
  "language_info": {
   "codemirror_mode": {
    "name": "ipython",
    "version": 3
   },
   "file_extension": ".py",
   "mimetype": "text/x-python",
   "name": "python",
   "nbconvert_exporter": "python",
   "pygments_lexer": "ipython3",
   "version": "3.12.7"
  }
 },
 "nbformat": 4,
 "nbformat_minor": 5
}
